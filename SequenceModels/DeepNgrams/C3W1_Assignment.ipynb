{
 "cells": [
  {
   "cell_type": "markdown",
   "id": "38e177cf",
   "metadata": {
    "colab_type": "text",
    "id": "-Jv7Y4hXwt0j"
   },
   "source": [
    "# Assignment 1:  Deep N-grams\n",
    "\n",
    "Welcome to the first graded assignment of course 3. In this assignment you will explore Recurrent Neural Networks `RNN`.\n",
    "\n",
    "In this notebook you will apply the following steps:\n",
    "- Convert a line of text into a tensor\n",
    "- Create a tensorflow dataset\n",
    "- Define a GRU model using `TensorFlow`\n",
    "- Train the model using `TensorFlow`\n",
    "- Compute the accuracy of your model using the perplexity\n",
    "- Generate text using your own model\n",
    "\n",
    "Before getting started take some time to read the following tips: \n",
    "\n",
    "#### TIPS FOR SUCCESSFUL GRADING OF YOUR ASSIGNMENT:\n",
    "\n",
    "- All cells are frozen except for the ones where you need to submit your solutions.\n",
    "\n",
    "- You can add new cells to experiment but these will be omitted by the grader, so don't rely on newly created cells to host your solution code, use the provided places for this.\n",
    "\n",
    "- You can add the comment # grade-up-to-here in any graded cell to signal the grader that it must only evaluate up to that point. This is helpful if you want to check if you are on the right track even if you are not done with the whole assignment. Be sure to remember to delete the comment afterwards!\n",
    "\n",
    "- To submit your notebook, save it and then click on the blue submit button at the beginning of the page."
   ]
  },
  {
   "cell_type": "markdown",
   "id": "686e3967",
   "metadata": {
    "colab_type": "text",
    "id": "V8_3fIOdkGv1"
   },
   "source": [
    "## Table of Contents\n",
    "\n",
    "- [Overview](#0)\n",
    "- [1 - Data Preprocessing Overview](#1)\n",
    "    - [1.1 - Loading in the Data](#1-1)\n",
    "    - [1.2 - Create the vocabulary](#1-2)\n",
    "    - [1.3 - Convert a Line to Tensor](#1-3)\n",
    "        - [Exercise 1 - line_to_tensor](#ex-1)\n",
    "    - [1.4 - Prepare your data for training and testing](#1-4)\n",
    "    - [1.5 - Tensorflow dataset](#1-5)\n",
    "    - [1.6 - Create the input and the output for your model](#1-6)\n",
    "        - [Exercise 2 - create_batch_dataset](#ex-2)\n",
    "    - [1.7 - Create the training dataset](#1-7)        \n",
    "- [2 - Defining the GRU Language Model (GRULM)](#2)\n",
    "    - [Exercise 3 - GRULM](#ex-3)\n",
    "- [3 - Training](#3)\n",
    "    - [Exercise 4 - compile_model](#ex-4)\n",
    "- [4 - Evaluation](#4)\n",
    "    - [4.1 - Evaluating using the Deep Nets](#4-1)\n",
    "    - [Exercise 5 - log_perplexity](#ex-5)\n",
    "- [5 - Generating Language with your Own Model](#5)\n",
    "    - [Optional Exercise 6 - GenerativeModel (Not graded)](#ex-6)\n",
    "- [On statistical methods](#6)"
   ]
  },
  {
   "cell_type": "markdown",
   "id": "3918e9de",
   "metadata": {
    "colab_type": "text",
    "id": "JP0inrk5kGv3"
   },
   "source": [
    "<a name='0'></a>\n",
    "## Overview\n",
    "\n",
    "In this lab, you'll delve into the world of text generation using Recurrent Neural Networks (RNNs). Your primary objective is to predict the next set of characters based on the preceding ones. This seemingly straightforward task holds immense practicality in applications like predictive text and creative writing.\n",
    "\n",
    "The journey unfolds as follows:\n",
    "\n",
    "- Data Preprocessing: You'll start by converting lines of text into numerical tensors, making them machine-readable.\n",
    "\n",
    "- Dataset Creation: Next, you'll create a TensorFlow dataset, which will serve as the backbone for supplying data to your model.\n",
    "\n",
    "- Neural Network Training: Your model will be trained to predict the next set of characters, specifying the desired output length.\n",
    "\n",
    "- Character Embeddings: Character embeddings will be employed to represent each character as a vector, a fundamental technique in natural language processing.\n",
    "\n",
    "- GRU Model: Your model utilizes a Gated Recurrent Unit (GRU) to process character embeddings and make sequential predictions. The following figure gives you a summary of what you are about to implement. \n",
    "\n",
    "<img src = \"images/model.png\" style=\"width:600px;height:150px;\"/>\n",
    "\n",
    "- Prediction Process: The model's predictions are achieved through a linear layer and log-softmax computation.\n",
    "\n",
    "This overview sets the stage for your exploration of text generation. Get ready to unravel the secrets of language and embark on a journey into the realm of creative writing and predictive text generation.\n",
    "\n",
    "And as usual let's start by importing all the required libraries."
   ]
  },
  {
   "cell_type": "code",
   "execution_count": 1,
   "id": "c0239115",
   "metadata": {
    "colab": {
     "base_uri": "https://localhost:8080/",
     "height": 1000
    },
    "colab_type": "code",
    "deletable": false,
    "editable": false,
    "id": "RVSwzQ5Bwt0m",
    "outputId": "9b51a13e-cf54-457f-e1ea-2574f9d67453",
    "tags": [
     "graded"
    ]
   },
   "outputs": [],
   "source": [
    "import os\n",
    "import traceback\n",
    "os.environ['TF_CPP_MIN_LOG_LEVEL'] = '3'\n",
    "\n",
    "import shutil\n",
    "import numpy as np\n",
    "import random as  rnd\n",
    "\n",
    "import tensorflow as tf\n",
    "from tensorflow.keras import layers\n",
    "from tensorflow.keras.layers import Input\n",
    "\n",
    "from termcolor import colored\n",
    "\n",
    "# set random seed\n",
    "rnd.seed(32)"
   ]
  },
  {
   "cell_type": "code",
   "execution_count": 2,
   "id": "9c5808fa",
   "metadata": {
    "deletable": false,
    "editable": false
   },
   "outputs": [],
   "source": [
    "import w1_unittest"
   ]
  },
  {
   "cell_type": "markdown",
   "id": "1d3e9446",
   "metadata": {
    "colab_type": "text",
    "id": "4sF9Hqzgwt0l"
   },
   "source": [
    "<a name='1'></a>\n",
    "## 1 - Data Preprocessing Overview\n",
    "\n",
    "<img src = \"images/shakespeare.png\" style=\"width:250px;height:250px;\"/>\n",
    "\n",
    "In this section, you will prepare the data for training your model. The data preparation involves the following steps:\n",
    "\n",
    "- Dataset Import: Begin by importing the dataset. Each sentence is structured as one line in the dataset. To ensure consistency, remove any extra spaces from these lines using the `strip` function.\n",
    "\n",
    "- Data Storage: Store each cleaned line in a list. This list will serve as the foundational dataset for your text generation task.\n",
    "\n",
    "- Character-Level Processing: Since the goal is character generation, it's essential to process the text at the character level, not the word level. This involves converting each individual character into a numerical representation. To achieve this:\n",
    "\n",
    "  - Use the [`tf.strings.unicode_split`](https://www.tensorflow.org/api_docs/python/tf/strings/unicode_split) function to split each sentence into its constituent characters.\n",
    "  - Utilize [`tf.keras.layers.StringLookup`](https://www.tensorflow.org/api_docs/python/tf/keras/layers/StringLookup) to map these characters to integer values. This transformation lays the foundation for character-based modeling.\n",
    "\n",
    "- TensorFlow Dataset Creation: Create a TensorFlow dataset capable of producing data in batches. Each batch will consist of `batch_size` sentences, with each sentence containing a maximum of `max_length` characters. This organized dataset is essential for training your character generation model.\n",
    "\n",
    "These preprocessing steps ensure that your dataset is meticulously prepared for the character-based text generation task, allowing you to work seamlessly with the Shakespearean corpus data.\n",
    "\n",
    "<a name='1-1'></a>\n",
    "### 1.1 - Loading in the Data"
   ]
  },
  {
   "cell_type": "code",
   "execution_count": 3,
   "id": "30be7095",
   "metadata": {
    "deletable": false,
    "editable": false,
    "lines_to_next_cell": 2
   },
   "outputs": [
    {
     "name": "stdout",
     "output_type": "stream",
     "text": [
      "Number of lines: 125097\n"
     ]
    }
   ],
   "source": [
    "dirname = 'data/'\n",
    "filename = 'shakespeare_data.txt'\n",
    "lines = [] # storing all the lines in a variable. \n",
    "\n",
    "counter = 0\n",
    "\n",
    "with open(os.path.join(dirname, filename)) as files:\n",
    "    for line in files:        \n",
    "        # remove leading and trailing whitespace\n",
    "        pure_line = line.strip()#.lower()\n",
    "\n",
    "        # if pure_line is not the empty string,\n",
    "        if pure_line:\n",
    "            # append it to the list\n",
    "            lines.append(pure_line)\n",
    "            \n",
    "n_lines = len(lines)\n",
    "print(f\"Number of lines: {n_lines}\")"
   ]
  },
  {
   "cell_type": "markdown",
   "id": "b53dc19a",
   "metadata": {},
   "source": [
    "Let's examine a few lines from the corpus. Pay close attention to the structure and style employed by Shakespeare in this excerpt. Observe that character names are written in uppercase, and each line commences with a capital letter. Your task in this exercise is to construct a generative model capable of emulating this particular structural style."
   ]
  },
  {
   "cell_type": "code",
   "execution_count": 4,
   "id": "3eddfa33",
   "metadata": {
    "deletable": false,
    "editable": false
   },
   "outputs": [
    {
     "name": "stdout",
     "output_type": "stream",
     "text": [
      "BENVOLIO\tHere were the servants of your adversary,\n",
      "And yours, close fighting ere I did approach:\n",
      "I drew to part them: in the instant came\n",
      "The fiery Tybalt, with his sword prepared,\n",
      "Which, as he breathed defiance to my ears,\n",
      "He swung about his head and cut the winds,\n",
      "Who nothing hurt withal hiss'd him in scorn:\n",
      "While we were interchanging thrusts and blows,\n"
     ]
    }
   ],
   "source": [
    "print(\"\\n\".join(lines[506:514]))"
   ]
  },
  {
   "cell_type": "markdown",
   "id": "b630ad99",
   "metadata": {},
   "source": [
    "<a name='1-2'></a>\n",
    "### 1.2 - Create the vocabulary\n",
    "\n",
    "In the following code cell, you will create the vocabulary for text processing. The vocabulary is a crucial component for understanding and processing text data. Here's what the code does:\n",
    "\n",
    "- Concatenate all the lines in our dataset into a single continuous text, separated by line breaks.\n",
    "\n",
    "- Identify and collect the unique characters that make up the text. This forms the basis of our vocabulary.\n",
    "\n",
    "- To enhance the vocabulary, introduce two special characters:\n",
    "\n",
    "  - [UNK]: This character represents any unknown or unrecognized characters in the text.\n",
    "  - \"\" (empty character): This character is used for padding sequences when necessary.\n",
    "- The code concludes with the display of statistics, showing the total count of unique characters in the vocabulary and providing a visual representation of the complete character set."
   ]
  },
  {
   "cell_type": "code",
   "execution_count": 5,
   "id": "3e656162",
   "metadata": {
    "deletable": false,
    "editable": false
   },
   "outputs": [
    {
     "name": "stdout",
     "output_type": "stream",
     "text": [
      "82 unique characters\n",
      "[UNK]  \t \n",
      "   ! $ & ' ( ) , - . 0 1 2 3 4 5 6 7 8 9 : ; ? A B C D E F G H I J K L M N O P Q R S T U V W X Y Z [ ] a b c d e f g h i j k l m n o p q r s t u v w x y z |\n"
     ]
    }
   ],
   "source": [
    "text = \"\\n\".join(lines)\n",
    "# The unique characters in the file\n",
    "vocab = sorted(set(text))\n",
    "vocab.insert(0,\"[UNK]\") # Add a special character for any unknown\n",
    "vocab.insert(1,\"\") # Add the empty character for padding.\n",
    "\n",
    "print(f'{len(vocab)} unique characters')\n",
    "print(\" \".join(vocab))"
   ]
  },
  {
   "cell_type": "markdown",
   "id": "04b2e15b",
   "metadata": {
    "colab_type": "text",
    "id": "BDcxEmX31y3d"
   },
   "source": [
    "<a name='1-3'></a>\n",
    "### 1.3 - Convert a Line to Tensor\n",
    "\n",
    "Now that you have your list of lines, you will convert each character in that list to a number using the order given by your vocabulary. You can use [`tf.strings.unicode_split`](https://www.tensorflow.org/api_docs/python/tf/strings/unicode_split) to split the text into characters. "
   ]
  },
  {
   "cell_type": "code",
   "execution_count": 6,
   "id": "f33c93a7",
   "metadata": {
    "deletable": false,
    "editable": false
   },
   "outputs": [
    {
     "name": "stdout",
     "output_type": "stream",
     "text": [
      "tf.Tensor([b'H' b'e' b'l' b'l' b'o' b' ' b'w' b'o' b'r' b'l' b'd' b'!'], shape=(12,), dtype=string)\n"
     ]
    }
   ],
   "source": [
    "line = \"Hello world!\"\n",
    "chars = tf.strings.unicode_split(line, input_encoding='UTF-8')\n",
    "print(chars)"
   ]
  },
  {
   "cell_type": "markdown",
   "id": "5d7e5009",
   "metadata": {},
   "source": [
    "Using your vocabulary, you can convert the characters given by `unicode_split` into numbers. The number will be the index of the character in the given vocabulary. "
   ]
  },
  {
   "cell_type": "code",
   "execution_count": 7,
   "id": "bbe118d3",
   "metadata": {
    "deletable": false,
    "editable": false
   },
   "outputs": [
    {
     "name": "stdout",
     "output_type": "stream",
     "text": [
      "55\n",
      "59\n",
      "63\n",
      "69\n",
      "75\n",
      "4\n",
      "16\n",
      "17\n"
     ]
    }
   ],
   "source": [
    "print(vocab.index('a'))\n",
    "print(vocab.index('e'))\n",
    "print(vocab.index('i'))\n",
    "print(vocab.index('o'))\n",
    "print(vocab.index('u'))\n",
    "print(vocab.index(' '))\n",
    "print(vocab.index('2'))\n",
    "print(vocab.index('3'))"
   ]
  },
  {
   "cell_type": "markdown",
   "id": "e9b45b0d",
   "metadata": {},
   "source": [
    "Tensorflow has a function [`tf.keras.layers.StringLookup`](https://www.tensorflow.org/api_docs/python/tf/keras/layers/StringLookup)  that does this efficiently for list of characters. Note that the output object is of type `tf.Tensor`. Here is the result of applying the StringLookup function to the characters of \"Hello world\""
   ]
  },
  {
   "cell_type": "code",
   "execution_count": 8,
   "id": "f0e35746",
   "metadata": {
    "deletable": false,
    "editable": false
   },
   "outputs": [
    {
     "name": "stdout",
     "output_type": "stream",
     "text": [
      "tf.Tensor([34 59 66 66 69  4 77 69 72 66 58  5], shape=(12,), dtype=int64)\n"
     ]
    }
   ],
   "source": [
    "ids = tf.keras.layers.StringLookup(vocabulary=list(vocab), mask_token=None)(chars)\n",
    "print(ids)"
   ]
  },
  {
   "cell_type": "markdown",
   "id": "4eadd334",
   "metadata": {
    "colab_type": "text",
    "id": "ZWB9qOLOkGwL"
   },
   "source": [
    "<a name='ex-1'></a>\n",
    "### Exercise 1 - line_to_tensor\n",
    "\n",
    "**Instructions:** Write a function that takes in a single line and transforms each character into its unicode integer.  This returns a list of integers, which we'll refer to as a tensor."
   ]
  },
  {
   "cell_type": "code",
   "execution_count": 9,
   "id": "0ef20200",
   "metadata": {
    "deletable": false,
    "tags": [
     "graded"
    ]
   },
   "outputs": [],
   "source": [
    "# GRADED FUNCTION: line_to_tensor\n",
    "def line_to_tensor(line, vocab):\n",
    "    \"\"\"\n",
    "    Converts a line of text into a tensor of integer values representing characters.\n",
    "\n",
    "    Args:\n",
    "        line (str): A single line of text.\n",
    "        vocab (list): A list containing the vocabulary of unique characters.\n",
    "\n",
    "    Returns:\n",
    "        tf.Tensor(dtype=int64): A tensor containing integers (unicode values) corresponding to the characters in the `line`.\n",
    "    \"\"\"\n",
    "    ### START CODE HERE ###\n",
    "\n",
    "    # Split the input line into individual characters\n",
    "    chars = tf.strings.unicode_split(line, input_encoding = 'UTF-8')\n",
    "    # Map characters to their respective integer values using StringLookup\n",
    "    ids = tf.keras.layers.StringLookup(vocabulary = list(vocab), mask_token = None)(chars)\n",
    "    \n",
    "    ### END CODE HERE ###\n",
    "\n",
    "    return ids"
   ]
  },
  {
   "cell_type": "code",
   "execution_count": 10,
   "id": "e4200ace",
   "metadata": {
    "deletable": false,
    "editable": false
   },
   "outputs": [
    {
     "name": "stdout",
     "output_type": "stream",
     "text": [
      "Result: [55 56 57  4 78 79 80]\n",
      "Output type: <class 'tensorflow.python.framework.ops.EagerTensor'>\n"
     ]
    }
   ],
   "source": [
    "# Test your function\n",
    "tmp_ids = line_to_tensor('abc xyz', vocab)\n",
    "print(f\"Result: {tmp_ids}\")\n",
    "print(f\"Output type: {type(tmp_ids)}\")"
   ]
  },
  {
   "cell_type": "markdown",
   "id": "ed82055d",
   "metadata": {},
   "source": [
    "**Expected output**\n",
    "\n",
    "```CPP\n",
    "Result: [55 56 57  4 78 79 80]\n",
    "Output type: <class 'tensorflow.python.framework.ops.EagerTensor'>\n",
    "```"
   ]
  },
  {
   "cell_type": "code",
   "execution_count": 11,
   "id": "c3a1f470-152d-4996-bf99-f766b5b591f7",
   "metadata": {
    "deletable": false,
    "editable": false
   },
   "outputs": [
    {
     "name": "stdout",
     "output_type": "stream",
     "text": [
      "\u001b[92mAll test passed!\n"
     ]
    }
   ],
   "source": [
    "# UNIT TEST\n",
    "w1_unittest.test_line_to_tensor(line_to_tensor)"
   ]
  },
  {
   "cell_type": "markdown",
   "id": "8b1a55d7",
   "metadata": {},
   "source": [
    "You will also need a function that produces text given a numeric tensor. This function will be useful for inspection when you use your model to generate new text, because you will be able to see words rather than lists of numbers. The function will use the inverse Lookup function `tf.keras.layers.StringLookup` with `invert=True` in its parameters."
   ]
  },
  {
   "cell_type": "code",
   "execution_count": 12,
   "id": "fa56d848",
   "metadata": {
    "deletable": false,
    "editable": false,
    "tags": [
     "graded"
    ]
   },
   "outputs": [],
   "source": [
    "def text_from_ids(ids, vocab):\n",
    "    \"\"\"\n",
    "    Converts a tensor of integer values into human-readable text.\n",
    "\n",
    "    Args:\n",
    "        ids (tf.Tensor): A tensor containing integer values (unicode IDs).\n",
    "        vocab (list): A list containing the vocabulary of unique characters.\n",
    "\n",
    "    Returns:\n",
    "        str: A string containing the characters in human-readable format.\n",
    "    \"\"\"\n",
    "    # Initialize the StringLookup layer to map integer IDs back to characters\n",
    "    chars_from_ids = tf.keras.layers.StringLookup(vocabulary=vocab, invert=True, mask_token=None)\n",
    "    \n",
    "    # Use the layer to decode the tensor of IDs into human-readable text\n",
    "    return tf.strings.reduce_join(chars_from_ids(ids), axis=-1)"
   ]
  },
  {
   "cell_type": "markdown",
   "id": "242da763",
   "metadata": {},
   "source": [
    "Use the function for decoding the tensor produced by \"Hello world!\""
   ]
  },
  {
   "cell_type": "code",
   "execution_count": 13,
   "id": "724687d2",
   "metadata": {
    "deletable": false,
    "editable": false
   },
   "outputs": [
    {
     "data": {
      "text/plain": [
       "b'Hello world!'"
      ]
     },
     "execution_count": 13,
     "metadata": {},
     "output_type": "execute_result"
    }
   ],
   "source": [
    "text_from_ids(ids, vocab).numpy()"
   ]
  },
  {
   "cell_type": "markdown",
   "id": "fd621c9d",
   "metadata": {},
   "source": [
    "<a name='1-4'></a>\n",
    "### 1.4 - Prepare your data for training and testing\n",
    "As usual, you will need some data for training your model, and some data for testing its performance. So, we will use 124097 lines for training and 1000 lines for testing. "
   ]
  },
  {
   "cell_type": "code",
   "execution_count": 14,
   "id": "771ec0a6",
   "metadata": {
    "deletable": false,
    "editable": false
   },
   "outputs": [
    {
     "name": "stdout",
     "output_type": "stream",
     "text": [
      "Number of training lines: 124097\n",
      "Number of validation lines: 1000\n"
     ]
    }
   ],
   "source": [
    "train_lines = lines[:-1000] # Leave the rest for training\n",
    "eval_lines = lines[-1000:] # Create a holdout validation set\n",
    "\n",
    "print(f\"Number of training lines: {len(train_lines)}\")\n",
    "print(f\"Number of validation lines: {len(eval_lines)}\")"
   ]
  },
  {
   "cell_type": "markdown",
   "id": "c59f4b44",
   "metadata": {
    "colab_type": "text",
    "id": "iFOR19cX2TQs"
   },
   "source": [
    "<a name='1-5'></a>\n",
    "### 1.5 - TensorFlow dataset\n",
    "\n",
    "Most of the time in Natural Language Processing, and AI in general you use batches when training your models. Here, you will build a dataset that takes in some text and returns a batch of text fragments (Not necesarly full sentences) that you will use for training.\n",
    "- The generator will produce text fragments encoded as numeric tensors of a desired length\n",
    "\n",
    "Once you create the dataset, you can iterate on it like this:\n",
    "\n",
    "```\n",
    "data_generator.take(1)\n",
    "```\n",
    "\n",
    "This generator returns the data in a format that you could directly use in your model when computing the feed-forward of your algorithm. This batch dataset generator returns batches of data in an endless way. \n",
    "\n",
    "So, let's check how the different parts work with a corpus composed of 2 lines. Then, you will use these parts to create the first graded function of this notebook.\n",
    "\n",
    "In order to get a dataset generator that produces batches of fragments from the corpus, you first need to convert the whole text into a single line, and then transform it into a single big tensor. This is only possible if your data fits completely into memory, but that is the case here."
   ]
  },
  {
   "cell_type": "code",
   "execution_count": 15,
   "id": "aa72ed77",
   "metadata": {
    "deletable": false,
    "editable": false
   },
   "outputs": [
    {
     "data": {
      "text/plain": [
       "<tf.Tensor: shape=(26,), dtype=int64, numpy=\n",
       "array([34, 59, 66, 66, 69,  4, 77, 69, 72, 66, 58,  5,  3, 33, 59, 68, 59,\n",
       "       72, 55, 74, 63, 76, 59,  4, 27, 35])>"
      ]
     },
     "execution_count": 15,
     "metadata": {},
     "output_type": "execute_result"
    }
   ],
   "source": [
    "all_ids = line_to_tensor(\"\\n\".join([\"Hello world!\", \"Generative AI\"]), vocab)\n",
    "all_ids"
   ]
  },
  {
   "cell_type": "markdown",
   "id": "2f00e068",
   "metadata": {},
   "source": [
    "Create a dataset out of a tensor like input. This initial dataset will dispatch numbers in packages of a specified length. For example, you can use it for getting the 10 first encoded characters of your dataset. To make it easier to read, we can use the `text_from_ids` function."
   ]
  },
  {
   "cell_type": "code",
   "execution_count": 16,
   "id": "375dc450",
   "metadata": {
    "deletable": false,
    "editable": false
   },
   "outputs": [
    {
     "name": "stdout",
     "output_type": "stream",
     "text": [
      "[b'H', b'e', b'l', b'l', b'o', b' ', b'w', b'o', b'r', b'l']\n"
     ]
    }
   ],
   "source": [
    "ids_dataset = tf.data.Dataset.from_tensor_slices(all_ids)\n",
    "print([text_from_ids([ids], vocab).numpy() for ids in ids_dataset.take(10)])"
   ]
  },
  {
   "cell_type": "markdown",
   "id": "2ad1d4a1",
   "metadata": {},
   "source": [
    "But we can configure this dataset to produce batches of the same size each time. We could use this functionality to produce text fragments of a desired size (`seq_length + 1`). We will explain later why you need an extra character into the sequence."
   ]
  },
  {
   "cell_type": "code",
   "execution_count": 17,
   "id": "1903124a",
   "metadata": {
    "deletable": false,
    "editable": false
   },
   "outputs": [],
   "source": [
    "seq_length = 10\n",
    "data_generator = ids_dataset.batch(seq_length + 1, drop_remainder=True)"
   ]
  },
  {
   "cell_type": "markdown",
   "id": "f2f8f14d",
   "metadata": {
    "colab_type": "text",
    "id": "D-M0U9GDwt0r"
   },
   "source": [
    "You can verify that the data generator produces encoded fragments of text of the desired length. For example, let's ask the generator to produce 2 batches of data using the function `data_generator.take(2)`"
   ]
  },
  {
   "cell_type": "code",
   "execution_count": 18,
   "id": "66bffbd8",
   "metadata": {
    "deletable": false,
    "editable": false
   },
   "outputs": [
    {
     "name": "stdout",
     "output_type": "stream",
     "text": [
      "tf.Tensor([34 59 66 66 69  4 77 69 72 66 58], shape=(11,), dtype=int64)\n",
      "tf.Tensor([ 5  3 33 59 68 59 72 55 74 63 76], shape=(11,), dtype=int64)\n"
     ]
    }
   ],
   "source": [
    "for seq in data_generator.take(2):\n",
    "    print(seq)"
   ]
  },
  {
   "cell_type": "markdown",
   "id": "daab16e5",
   "metadata": {},
   "source": [
    "But as usual, it is easier to understand if you print it in human readable characters using the 'text_from_ids' function."
   ]
  },
  {
   "cell_type": "code",
   "execution_count": 19,
   "id": "fd881a9a",
   "metadata": {
    "deletable": false,
    "editable": false
   },
   "outputs": [
    {
     "name": "stdout",
     "output_type": "stream",
     "text": [
      "1. b'Hello world'\n",
      "2. b'!\\nGenerativ'\n"
     ]
    }
   ],
   "source": [
    "i = 1\n",
    "for seq in data_generator.take(2):\n",
    "    print(f\"{i}. {text_from_ids(seq, vocab).numpy()}\")\n",
    "    i = i + 1"
   ]
  },
  {
   "cell_type": "markdown",
   "id": "fa96d87a",
   "metadata": {
    "colab_type": "text",
    "id": "RWvsSxDUFB0p"
   },
   "source": [
    "<a name='1-6'></a>\n",
    "### 1.6 - Create the input and the output for your model\n",
    "\n",
    "In this task you have to predict the next character in a sequence. The following function creates 2 tensors, each with a length of `seq_length` out of the input sequence of lenght `seq_length + 1`. The first one contains the first `seq_length` elements and the second one contains the last `seq_length` elements. For example, if you split the sequence `['H', 'e', 'l', 'l', 'o']`, you will obtain the sequences `['H', 'e', 'l', 'l']` and `['e', 'l', 'l', 'o']`. "
   ]
  },
  {
   "cell_type": "code",
   "execution_count": 20,
   "id": "066aef3c",
   "metadata": {
    "deletable": false,
    "editable": false,
    "tags": [
     "graded"
    ]
   },
   "outputs": [],
   "source": [
    "def split_input_target(sequence):\n",
    "    \"\"\"\n",
    "    Splits the input sequence into two sequences, where one is shifted by one position.\n",
    "\n",
    "    Args:\n",
    "        sequence (tf.Tensor or list): A list of characters or a tensor.\n",
    "\n",
    "    Returns:\n",
    "        tf.Tensor, tf.Tensor: Two tensors representing the input and output sequences for the model.\n",
    "    \"\"\"\n",
    "    # Create the input sequence by excluding the last character\n",
    "    input_text = sequence[:-1]\n",
    "    # Create the target sequence by excluding the first character\n",
    "    target_text = sequence[1:]\n",
    "\n",
    "    return input_text, target_text"
   ]
  },
  {
   "cell_type": "markdown",
   "id": "b53249ab",
   "metadata": {},
   "source": [
    "Look the result using the following sequence of characters"
   ]
  },
  {
   "cell_type": "code",
   "execution_count": 21,
   "id": "4f1439bc",
   "metadata": {
    "deletable": false,
    "editable": false
   },
   "outputs": [
    {
     "data": {
      "text/plain": [
       "(['T', 'e', 'n', 's', 'o', 'r', 'f', 'l', 'o'],\n",
       " ['e', 'n', 's', 'o', 'r', 'f', 'l', 'o', 'w'])"
      ]
     },
     "execution_count": 21,
     "metadata": {},
     "output_type": "execute_result"
    }
   ],
   "source": [
    "split_input_target(list(\"Tensorflow\"))"
   ]
  },
  {
   "cell_type": "markdown",
   "id": "14c4512b",
   "metadata": {},
   "source": [
    "The first sequence will be the input and the second sequence will be the expected output"
   ]
  },
  {
   "cell_type": "markdown",
   "id": "a1546c91",
   "metadata": {},
   "source": [
    "Now, put all this together into a function to create your batch dataset generator\n",
    "\n",
    "<a name='ex-2'></a>\n",
    "### Exercise 2 - create_batch_dataset\n",
    "**Instructions:** Create a batch dataset from the input text. Here are some things you will need. \n",
    "\n",
    "- Join all the input lines into a single string. When you have a big dataset, you would better use a flow from directory or any other kind of generator.\n",
    "- Transform your input text into numeric tensors\n",
    "- Create a TensorFlow DataSet from your numeric tensors: Just feed the numeric tensors into the function [`tf.data.Dataset.from_tensor_slices`](https://www.tensorflow.org/api_docs/python/tf/data/Dataset#from_tensor_slices)\n",
    "- Make the dataset produce batches of data that will form a single sample each time. This is, make the dataset produce a sequence of `seq_length + 1`, rather than single numbers at each time. You can do it using the `batch` function of the already created dataset. You must specify the length of the produced sequences (`seq_length + 1`). So, the sequence length produced by the dataset will `seq_length + 1`. It must have that extra element since you will get the input and the output sequences out of the same element. `drop_remainder=True` will drop the sequences that do not have the required length. This could happen each time that the dataset reaches the end of the input sequence.\n",
    "- Use the `split_input_target` to split each element produced by the dataset into the mentioned input and output sequences.The input will have the first `seq_length` elements, and the output will have the last `seq_length`. So, after this step, the dataset generator will produce batches of pairs (input, output) sequences.\n",
    "- Create the final dataset, using `dataset_xy` as the starting point. You will configure this dataset to shuffle the data during the generation of the data with the specified BUFFER_SIZE. For performance reasons, you would like that tensorflow pre-process the data in parallel with training. That is called [`prefetching`](https://www.tensorflow.org/guide/data_performance#prefetching), and it will be configured for you."
   ]
  },
  {
   "cell_type": "code",
   "execution_count": 23,
   "id": "0d736de0",
   "metadata": {
    "deletable": false,
    "tags": [
     "graded"
    ]
   },
   "outputs": [],
   "source": [
    "# GRADED FUNCTION: create_batch_dataset\n",
    "def create_batch_dataset(lines, vocab, seq_length=100, batch_size=64):\n",
    "    \"\"\"\n",
    "    Creates a batch dataset from a list of text lines.\n",
    "\n",
    "    Args:\n",
    "        lines (list): A list of strings with the input data, one line per row.\n",
    "        vocab (list): A list containing the vocabulary.\n",
    "        seq_length (int): The desired length of each sample.\n",
    "        batch_size (int): The batch size.\n",
    "\n",
    "    Returns:\n",
    "        tf.data.Dataset: A batch dataset generator.\n",
    "    \"\"\"\n",
    "    # Buffer size to shuffle the dataset\n",
    "    # (TF data is designed to work with possibly infinite sequences,\n",
    "    # so it doesn't attempt to shuffle the entire sequence in memory. Instead,\n",
    "    # it maintains a buffer in which it shuffles elements).\n",
    "    BUFFER_SIZE = 10000\n",
    "    \n",
    "    # For simplicity, just join all lines into a single line\n",
    "    single_line_data  = \"\\n\".join(lines)\n",
    "\n",
    "    ### START CODE HERE ###\n",
    "    \n",
    "    # Convert your data into a tensor using the given vocab\n",
    "    all_ids = line_to_tensor(single_line_data, vocab)\n",
    "    # Create a TensorFlow dataset from the data tensor\n",
    "    ids_dataset = tf.data.Dataset.from_tensor_slices(all_ids)\n",
    "    # Create a batch dataset\n",
    "    data_generator = ids_dataset.batch(seq_length + 1, drop_remainder=True) \n",
    "    # Map each input sample using the split_input_target function\n",
    "    dataset_xy = data_generator.map(split_input_target)\n",
    "    \n",
    "    # Assemble the final dataset with shuffling, batching, and prefetching\n",
    "    dataset = (                                   \n",
    "        dataset_xy                                \n",
    "        .shuffle(BUFFER_SIZE)\n",
    "        .batch(batch_size, drop_remainder=True)\n",
    "        .prefetch(tf.data.experimental.AUTOTUNE)  \n",
    "        )            \n",
    "                                     \n",
    "    ### END CODE HERE ###\n",
    "    \n",
    "    return dataset"
   ]
  },
  {
   "cell_type": "code",
   "execution_count": 24,
   "id": "8b4821f2",
   "metadata": {
    "deletable": false,
    "editable": false
   },
   "outputs": [
    {
     "name": "stdout",
     "output_type": "stream",
     "text": [
      "Prints the elements into a single batch. The batch contains 2 elements: \n",
      "\n",
      "\u001b[94mInput0\t: b'and sight distra'\n",
      "\n",
      "\u001b[93mTarget0\t: b'nd sight distrac'\n",
      "\n",
      "\n",
      "\u001b[94mInput1\t: b'when in his fair'\n",
      "\n",
      "\u001b[93mTarget1\t: b'hen in his fair '\n"
     ]
    }
   ],
   "source": [
    "# test your function\n",
    "tf.random.set_seed(1)\n",
    "dataset = create_batch_dataset(train_lines[1:100], vocab, seq_length=16, batch_size=2)\n",
    "\n",
    "print(\"Prints the elements into a single batch. The batch contains 2 elements: \")\n",
    "\n",
    "for input_example, target_example in dataset.take(1):\n",
    "    print(\"\\n\\033[94mInput0\\t:\", text_from_ids(input_example[0], vocab).numpy())\n",
    "    print(\"\\n\\033[93mTarget0\\t:\", text_from_ids(target_example[0], vocab).numpy())\n",
    "    \n",
    "    print(\"\\n\\n\\033[94mInput1\\t:\", text_from_ids(input_example[1], vocab).numpy())\n",
    "    print(\"\\n\\033[93mTarget1\\t:\", text_from_ids(target_example[1], vocab).numpy())"
   ]
  },
  {
   "cell_type": "markdown",
   "id": "2930c4e6",
   "metadata": {},
   "source": [
    "**Expected output**\n",
    "\n",
    "```CPP\n",
    "Prints the elements into a single batch. The batch contains 2 elements: \n",
    "\n",
    "Input0\t: b'and sight distra'\n",
    "\n",
    "Target0\t: b'nd sight distrac'\n",
    "\n",
    "\n",
    "Input1\t: b'when in his fair'\n",
    "\n",
    "Target1\t: b'hen in his fair '\n",
    "```"
   ]
  },
  {
   "cell_type": "code",
   "execution_count": 25,
   "id": "dd6f62af-c739-4001-9cd9-5e606478bf61",
   "metadata": {
    "deletable": false,
    "editable": false
   },
   "outputs": [
    {
     "name": "stdout",
     "output_type": "stream",
     "text": [
      "\n",
      "\u001b[92mAll test passed!\n"
     ]
    }
   ],
   "source": [
    "# UNIT TEST\n",
    "w1_unittest.test_create_batch_dataset(create_batch_dataset)"
   ]
  },
  {
   "cell_type": "markdown",
   "id": "272a7e47",
   "metadata": {},
   "source": [
    "<a name='1-6'></a>\n",
    "### 1.7 - Create the training dataset\n",
    "\n",
    "Now, you can generate your training dataset using the functions defined above. This will produce pairs of input/output tensors each time the batch generator creates an entry."
   ]
  },
  {
   "cell_type": "code",
   "execution_count": 26,
   "id": "b4d4f89f",
   "metadata": {
    "deletable": false,
    "editable": false
   },
   "outputs": [],
   "source": [
    "# Batch size\n",
    "BATCH_SIZE = 64\n",
    "dataset = create_batch_dataset(train_lines, vocab, seq_length=100, batch_size=BATCH_SIZE)"
   ]
  },
  {
   "cell_type": "markdown",
   "id": "d9d941b6",
   "metadata": {
    "colab_type": "text",
    "id": "KmZRBoaMwt0w"
   },
   "source": [
    "<a name='2'></a>\n",
    "## 2 - Defining the GRU Language Model (GRULM)\n",
    "\n",
    "Now that you have the input and output tensors, you will go ahead and initialize your model. You will be implementing the `GRULM`, gated recurrent unit model. To implement this model, you will be using `TensorFlow`. Instead of implementing the `GRU` from scratch (you saw this already in a lab), you will use the necessary methods from a built-in package. You can use the following packages when constructing the model: \n",
    "\n",
    "- `tf.keras.layers.Embedding`: Initializes the embedding. In this case it is the size of the vocabulary by the dimension of the model. [docs](https://www.tensorflow.org/api_docs/python/tf/keras/layers/Embedding)  \n",
    "    - `Embedding(vocab_size, embedding_dim)`.\n",
    "    - `vocab_size` is the number of unique words in the given vocabulary.\n",
    "    - `embedding_dim` is the number of elements in the word embedding (some choices for a word embedding size range from 150 to 300, for example).\n",
    "___\n",
    "\n",
    "- `tf.keras.layers.GRU`: `TensorFlow` GRU layer. [docs](https://www.tensorflow.org/api_docs/python/tf/keras/layers/GRU)) Builds a traditional GRU of rnn_units with dense internal transformations. You can read the paper here: https://arxiv.org/abs/1412.3555\n",
    "    - `units`: Number of recurrent units in the layer. It must be set to `rnn_units`\n",
    "    - `return_sequences`: It specifies if the model returns a sequence of predictions. Set it to `True`\n",
    "    - `return_state`: It specifies if the model must return the last internal state along with the prediction. Set it to `True` \n",
    "___\n",
    "\n",
    "- `tf.keras.layers.Dense`: A dense layer. [docs](https://www.tensorflow.org/api_docs/python/tf/keras/layers/Dense). You must set the following parameters:\n",
    "    - `units`: Number of units in the layer. It must be set to `vocab_size`\n",
    "    - `activation`: It must be set to `log_softmax` function as described in the next line.\n",
    "___\n",
    "\n",
    "- `tf.nn.log_softmax`: Log of the output probabilities. [docs](https://www.tensorflow.org/api_docs/python/tf/nn/log_softmax)\n",
    "    - You don't need to set any parameters, just set the activation parameter as `activation=tf.nn.log_softmax`.\n",
    "___\n",
    "\n",
    "<a name='ex-3'></a>\n",
    "### Exercise 3 - GRULM\n",
    "**Instructions:** Implement the `GRULM` class below. You should be using all the methods explained above.\n"
   ]
  },
  {
   "cell_type": "code",
   "execution_count": 27,
   "id": "37306da8",
   "metadata": {
    "colab": {},
    "colab_type": "code",
    "deletable": false,
    "id": "hww76f8_wt0x",
    "tags": [
     "graded"
    ]
   },
   "outputs": [],
   "source": [
    "# GRADED CLASS: GRULM\n",
    "class GRULM(tf.keras.Model):\n",
    "    \"\"\"\n",
    "    A GRU-based language model that maps from a tensor of tokens to activations over a vocabulary.\n",
    "\n",
    "    Args:\n",
    "        vocab_size (int, optional): Size of the vocabulary. Defaults to 256.\n",
    "        embedding_dim (int, optional): Depth of embedding. Defaults to 256.\n",
    "        rnn_units (int, optional): Number of units in the GRU cell. Defaults to 128.\n",
    "\n",
    "    Returns:\n",
    "        tf.keras.Model: A GRULM language model.\n",
    "    \"\"\"\n",
    "    def __init__(self, vocab_size=256, embedding_dim=256, rnn_units=128):\n",
    "        super().__init__(self)\n",
    "\n",
    "        ### START CODE HERE ###\n",
    "\n",
    "        # Create an embedding layer to map token indices to embedding vectors\n",
    "        self.embedding = tf.keras.layers.Embedding(vocab_size, embedding_dim)\n",
    "        # Define a GRU (Gated Recurrent Unit) layer for sequence modeling\n",
    "        self.gru = tf.keras.layers.GRU(units = rnn_units, return_sequences = True, return_state = True)\n",
    "        # Apply a dense layer with log-softmax activation to predict next tokens\n",
    "        self.dense = tf.keras.layers.Dense(units = vocab_size, activation = tf.nn.log_softmax)\n",
    "        \n",
    "        ### END CODE HERE ###\n",
    "    \n",
    "    def call(self, inputs, states=None, return_state=False, training=False):\n",
    "        x = inputs\n",
    "        # Map input tokens to embedding vectors\n",
    "        x = self.embedding(x, training=training)\n",
    "        if states is None:\n",
    "            # Get initial state from the GRU layer\n",
    "            states = self.gru.get_initial_state(x)\n",
    "        x, states = self.gru(x, initial_state=states, training=training)\n",
    "        # Predict the next tokens and apply log-softmax activation\n",
    "        x = self.dense(x, training=training)\n",
    "        if return_state:\n",
    "            return x, states\n",
    "        else:\n",
    "            return x"
   ]
  },
  {
   "cell_type": "markdown",
   "id": "2b4e2e4c",
   "metadata": {},
   "source": [
    "Now, you can define a new GRULM model. You must set the `vocab_size` to 82; the size of the embedding `embedding_dim` to 256, and the number of units that will have you recurrent neural network `rnn_units` to 512"
   ]
  },
  {
   "cell_type": "code",
   "execution_count": 28,
   "id": "97558190",
   "metadata": {
    "deletable": false,
    "editable": false,
    "tags": [
     "graded"
    ]
   },
   "outputs": [],
   "source": [
    "# Length of the vocabulary in StringLookup Layer\n",
    "vocab_size = 82\n",
    "\n",
    "# The embedding dimension\n",
    "embedding_dim = 256\n",
    "\n",
    "# RNN layers\n",
    "rnn_units = 512\n",
    "\n",
    "model = GRULM(\n",
    "    vocab_size=vocab_size,\n",
    "    embedding_dim=embedding_dim,\n",
    "    rnn_units = rnn_units)"
   ]
  },
  {
   "cell_type": "code",
   "execution_count": 29,
   "id": "facb51a7",
   "metadata": {
    "colab": {
     "base_uri": "https://localhost:8080/",
     "height": 153
    },
    "colab_type": "code",
    "deletable": false,
    "editable": false,
    "id": "kvQ_jf52-JAn",
    "outputId": "9d13c577-f89d-427a-8944-a00ca57a4f2c"
   },
   "outputs": [
    {
     "name": "stdout",
     "output_type": "stream",
     "text": [
      "Model: \"grulm\"\n",
      "_________________________________________________________________\n",
      " Layer (type)                Output Shape              Param #   \n",
      "=================================================================\n",
      " embedding (Embedding)       (None, 100, 256)          20992     \n",
      "                                                                 \n",
      " gru (GRU)                   [(None, 100, 512),        1182720   \n",
      "                              (None, 512)]                       \n",
      "                                                                 \n",
      " dense (Dense)               (None, 100, 82)           42066     \n",
      "                                                                 \n",
      "=================================================================\n",
      "Total params: 1245778 (4.75 MB)\n",
      "Trainable params: 1245778 (4.75 MB)\n",
      "Non-trainable params: 0 (0.00 Byte)\n",
      "_________________________________________________________________\n"
     ]
    }
   ],
   "source": [
    "# testing your model\n",
    "\n",
    "try:\n",
    "    # Simulate inputs of length 100. This allows to compute the shape of all inputs and outputs of our network\n",
    "    model.build(input_shape=(BATCH_SIZE, 100))\n",
    "    model.call(Input(shape=(100)))\n",
    "    model.summary() \n",
    "except:\n",
    "    print(\"\\033[91mError! \\033[0mA problem occurred while building your model. This error can occur due to wrong initialization of the return_sequences parameter\\n\\n\")\n",
    "    traceback.print_exc()"
   ]
  },
  {
   "cell_type": "markdown",
   "id": "f488d6ce",
   "metadata": {
    "colab_type": "text",
    "id": "3K8UKp48kGwi"
   },
   "source": [
    "##### Expected output\n",
    "\n",
    "```python\n",
    "Model: \"grulm\"\n",
    "_________________________________________________________________\n",
    " Layer (type)                Output Shape              Param #   \n",
    "=================================================================\n",
    " embedding (Embedding)    (None, 100, 256)          20992     \n",
    "                                                                 \n",
    " gru (GRU)                [(None, 100, 512),        1182720   \n",
    "                              (None, 512)]                       \n",
    "                                                                 \n",
    " dense (Dense)            (None, 100, 82)           42066     \n",
    "                                                                 \n",
    "=================================================================\n",
    "Total params: 1245778 (4.75 MB)\n",
    "Trainable params: 1245778 (4.75 MB)\n",
    "Non-trainable params: 0 (0.00 Byte)\n",
    "_________________________________________________________________\n",
    "```"
   ]
  },
  {
   "cell_type": "code",
   "execution_count": 30,
   "id": "2fb84614-5707-41c1-889c-03bc461a8c49",
   "metadata": {
    "deletable": false,
    "editable": false
   },
   "outputs": [
    {
     "name": "stdout",
     "output_type": "stream",
     "text": [
      "Test case 1:\n",
      "\u001b[32mAll tests passed!\u001b[0m\n",
      "Test case 2:\n",
      "\u001b[32mAll tests passed!\u001b[0m\n"
     ]
    }
   ],
   "source": [
    "# UNIT TEST\n",
    "w1_unittest.test_GRULM(GRULM)"
   ]
  },
  {
   "cell_type": "markdown",
   "id": "620324ba",
   "metadata": {},
   "source": [
    "Now, let's use the model for predicting the next character using the untrained model. At the begining the model will generate only gibberish."
   ]
  },
  {
   "cell_type": "code",
   "execution_count": 31,
   "id": "cbf5745e",
   "metadata": {
    "deletable": false,
    "editable": false
   },
   "outputs": [
    {
     "name": "stdout",
     "output_type": "stream",
     "text": [
      "Input:  [73 62 55 66 74  4 62 69 66 58  4 74 62 59  4 69 70 63 68 63 69 68  4 69\n",
      " 60  4 42 79 74 62 55 61 69 72 55 73  4 59 72 59  4 35  4 77 63 66 66  3\n",
      " 55 66 66 69 77  4 69 60  4 74 62 79  4 77 63 74 73 11  4 55 68 58  4 60\n",
      " 59 55 72  4 74 69  4 65 63 66 66  4 55  4 77 69 69 58 57 69 57 65 11  4\n",
      " 66 59 73 74]\n",
      "\n",
      " (1, 100, 82) # (batch_size, sequence_length, vocab_size)\n"
     ]
    }
   ],
   "source": [
    "for input_example_batch, target_example_batch in dataset.take(1):\n",
    "    print(\"Input: \", input_example_batch[0].numpy()) # Lets use only the first sequence on the batch\n",
    "    example_batch_predictions = model(tf.constant([input_example_batch[0].numpy()]))\n",
    "    print(\"\\n\",example_batch_predictions.shape, \"# (batch_size, sequence_length, vocab_size)\")"
   ]
  },
  {
   "cell_type": "markdown",
   "id": "96266a51",
   "metadata": {},
   "source": [
    "The output size is (1, 100, 82). We predicted only on the first sequence generated by the batch generator. 100 is the number of predicted characters. It has exactly the same length as the input. And there are 82 values for each predicted character. Each of these 82 real values are related to the logarithm likelihood of each character to be the next one in the sequence. The bigger the value, the higher the likelihood. As the network is not trained yet, all those values must be very similar and random. Just check the values for the last prediction on the sequence."
   ]
  },
  {
   "cell_type": "code",
   "execution_count": 32,
   "id": "7df09c7b",
   "metadata": {
    "deletable": false,
    "editable": false
   },
   "outputs": [
    {
     "data": {
      "text/plain": [
       "array([-4.394292 , -4.40476  , -4.412511 , -4.3860574, -4.4002004,\n",
       "       -4.406017 , -4.391721 , -4.412148 , -4.398938 , -4.409028 ,\n",
       "       -4.4036393, -4.4032044, -4.412924 , -4.4294558, -4.4058275,\n",
       "       -4.42735  , -4.4058037, -4.3803573, -4.400791 , -4.400802 ,\n",
       "       -4.406753 , -4.3941684, -4.3932967, -4.4120283, -4.387955 ,\n",
       "       -4.401387 , -4.409998 , -4.3959923, -4.3911653, -4.3927126,\n",
       "       -4.418993 , -4.3965154, -4.4084926, -4.411369 , -4.3952107,\n",
       "       -4.4010906, -4.3987713, -4.438392 , -4.395659 , -4.382313 ,\n",
       "       -4.41321  , -4.3956714, -4.407373 , -4.4170127, -4.4092526,\n",
       "       -4.3940024, -4.412472 , -4.4142866, -4.4282956, -4.4088607,\n",
       "       -4.4279985, -4.412727 , -4.4195285, -4.4102244, -4.3989367,\n",
       "       -4.4095216, -4.4144945, -4.3992176, -4.413693 , -4.400564 ,\n",
       "       -4.4158244, -4.428811 , -4.41504  , -4.419681 , -4.416288 ,\n",
       "       -4.4038076, -4.423907 , -4.413642 , -4.394232 , -4.419655 ,\n",
       "       -4.4194393, -4.425377 , -4.40321  , -4.3787003, -4.411811 ,\n",
       "       -4.386497 , -4.405401 , -4.3831735, -4.40585  , -4.428001 ,\n",
       "       -4.410224 , -4.4233975], dtype=float32)"
      ]
     },
     "execution_count": 32,
     "metadata": {},
     "output_type": "execute_result"
    }
   ],
   "source": [
    "example_batch_predictions[0][99].numpy()"
   ]
  },
  {
   "cell_type": "markdown",
   "id": "96ff6fac",
   "metadata": {},
   "source": [
    "And the simplest way to choose the next character is by getting the index of the element with the highest likelihood. So, for instance, the prediction for the last characeter would be:"
   ]
  },
  {
   "cell_type": "code",
   "execution_count": 33,
   "id": "90eae11a",
   "metadata": {
    "deletable": false,
    "editable": false
   },
   "outputs": [
    {
     "name": "stdout",
     "output_type": "stream",
     "text": [
      "73\n"
     ]
    }
   ],
   "source": [
    "last_character = tf.math.argmax(example_batch_predictions[0][99])\n",
    "print(last_character.numpy())"
   ]
  },
  {
   "cell_type": "markdown",
   "id": "398a7602",
   "metadata": {},
   "source": [
    "And the prediction for the whole sequence would be:"
   ]
  },
  {
   "cell_type": "code",
   "execution_count": 34,
   "id": "6e62ea06",
   "metadata": {
    "deletable": false,
    "editable": false
   },
   "outputs": [
    {
     "name": "stdout",
     "output_type": "stream",
     "text": [
      "[21 27 71 12 73 41  6 75 75 48 72 77  6  6 41 75  4  3 28 28  3 14 18 75\n",
      " 65 41 29 29 73  6 71  6 14 14 23 36 41 41 73 44 41 73 41 41 22 75  8 28\n",
      " 25 12 12 75  5 41 75 74 41 29  6  6 41 41 22 77  3 17 54 41 50 48 41 29\n",
      " 65 41 73 41 73 75 54  5  1 75  8 12 41 41 41 75 75 48 29 14 45  5 54 54\n",
      " 12 70 21 73]\n"
     ]
    }
   ],
   "source": [
    "sampled_indices = tf.math.argmax(example_batch_predictions[0], axis=1)\n",
    "print(sampled_indices.numpy())"
   ]
  },
  {
   "cell_type": "markdown",
   "id": "10564aee",
   "metadata": {},
   "source": [
    "Those 100 numbers represent 100 predicted characters. However, humans cannot read this. So, let's print the input and output sequences using our `text_from_ids` function, to check what is going on."
   ]
  },
  {
   "cell_type": "code",
   "execution_count": 35,
   "id": "ff501624",
   "metadata": {
    "deletable": false,
    "editable": false
   },
   "outputs": [
    {
     "name": "stdout",
     "output_type": "stream",
     "text": [
      "Input:\n",
      " tf.Tensor(b'shalt hold the opinion of Pythagoras ere I will\\nallow of thy wits, and fear to kill a woodcock, lest', shape=(), dtype=string)\n",
      "\n",
      "Next Char Predictions:\n",
      " tf.Tensor(b\"7Aq-sO$uuVrw$$Ou \\nBB\\n04ukOCCs$q$009JOOsROsOO8u'B;--u!OutOC$$OO8w\\n3]OXVOCkOsOsu]!u'-OOOuuVC0S!]]-p7s\", shape=(), dtype=string)\n"
     ]
    }
   ],
   "source": [
    "print(\"Input:\\n\", text_from_ids(input_example_batch[0], vocab))\n",
    "print()\n",
    "print(\"Next Char Predictions:\\n\", text_from_ids(sampled_indices, vocab))"
   ]
  },
  {
   "cell_type": "markdown",
   "id": "8d090f1a",
   "metadata": {},
   "source": [
    "As expected, the untrained model just produces random text as response of the given input. It is also important to note that getting the index of the maximum score is not always the best choice. In the last part of the notebook you will see another way to do it."
   ]
  },
  {
   "cell_type": "markdown",
   "id": "97aeb3f3",
   "metadata": {
    "colab_type": "text",
    "id": "lsvjaCQ6wt02"
   },
   "source": [
    "<a name='3'></a>\n",
    "## 3 - Training\n",
    "\n",
    "Now you are going to train your model. As usual, you have to define the cost function and the optimizer. You will use the following built-in functions provided by TensorFlow: \n",
    "\n",
    "- [`tf.losses.SparseCategoricalCrossentropy()`](https://www.tensorflow.org/api_docs/python/tf/keras/losses/SparseCategoricalCrossentropy): The Sparce Categorical Cross Entropy loss. It is the loss function used for multiclass classification.    \n",
    "    - `from_logits=True`: This parameter informs the loss function that the output values generated by the model are not normalized like a probability distribution. This is our case, since our GRULM model uses a `log_softmax` activation rather than the `softmax`.\n",
    "- [`tf.keras.optimizers.Adam`](https://www.tensorflow.org/api_docs/python/tf/keras/optimizers/Adam): Use Adaptive Moment Estimation, a stochastic gradient descent method optimizer that works well in most of the cases. Set the `learning_rate` to 0.00125. \n",
    "\n",
    "<a name='ex-4'></a>\n",
    "### Exercise 4 - compile_model\n",
    "\n",
    "**Instructions:** Compile the GRULM model using a `SparseCategoricalCrossentropy` loss and the `Adam` optimizer"
   ]
  },
  {
   "cell_type": "code",
   "execution_count": 38,
   "id": "5c2948bb",
   "metadata": {
    "deletable": false,
    "tags": [
     "graded"
    ]
   },
   "outputs": [],
   "source": [
    "# GRADED FUNCTION: Compile model\n",
    "def compile_model(model):\n",
    "    \"\"\"\n",
    "    Sets the loss and optimizer for the given model\n",
    "\n",
    "    Args:\n",
    "        model (tf.keras.Model): The model to compile.\n",
    "\n",
    "    Returns:\n",
    "        tf.keras.Model: The compiled model.\n",
    "    \"\"\"\n",
    "    ### START CODE HERE ###\n",
    "\n",
    "    # Define the loss function. Use SparseCategoricalCrossentropy \n",
    "    loss = tf.losses.SparseCategoricalCrossentropy(from_logits = True)\n",
    "    # Define and Adam optimizer\n",
    "    opt = tf.keras.optimizers.Adam(learning_rate = 0.00125)\n",
    "    # Compile the model using the parametrized Adam optimizer and the SparseCategoricalCrossentropy funcion\n",
    "    model.compile(optimizer=opt, loss=loss)\n",
    "    \n",
    "    ### END CODE HERE ###\n",
    "\n",
    "    return model"
   ]
  },
  {
   "cell_type": "code",
   "execution_count": 39,
   "id": "2a675872",
   "metadata": {
    "deletable": false,
    "editable": false
   },
   "outputs": [
    {
     "name": "stdout",
     "output_type": "stream",
     "text": [
      "\n",
      "\u001b[92mAll test passed!\n"
     ]
    }
   ],
   "source": [
    "## UNIT TEST\n",
    "w1_unittest.test_compile_model(compile_model)"
   ]
  },
  {
   "cell_type": "markdown",
   "id": "8f8c8479",
   "metadata": {},
   "source": [
    "Now, train your model for 10 epochs. With GPU this should take about one minute. With CPU this could take several minutes."
   ]
  },
  {
   "cell_type": "code",
   "execution_count": 40,
   "id": "343ab5e2",
   "metadata": {
    "deletable": false,
    "editable": false
   },
   "outputs": [
    {
     "name": "stdout",
     "output_type": "stream",
     "text": [
      "Epoch 1/10\n",
      "790/790 [==============================] - 12s 11ms/step - loss: 2.0145\n",
      "Epoch 2/10\n",
      "790/790 [==============================] - 9s 10ms/step - loss: 1.4798\n",
      "Epoch 3/10\n",
      "790/790 [==============================] - 9s 10ms/step - loss: 1.3790\n",
      "Epoch 4/10\n",
      "790/790 [==============================] - 9s 10ms/step - loss: 1.3326\n",
      "Epoch 5/10\n",
      "790/790 [==============================] - 9s 10ms/step - loss: 1.3032\n",
      "Epoch 6/10\n",
      "790/790 [==============================] - 9s 10ms/step - loss: 1.2819\n",
      "Epoch 7/10\n",
      "790/790 [==============================] - 9s 10ms/step - loss: 1.2656\n",
      "Epoch 8/10\n",
      "790/790 [==============================] - 9s 10ms/step - loss: 1.2518\n",
      "Epoch 9/10\n",
      "790/790 [==============================] - 9s 10ms/step - loss: 1.2406\n",
      "Epoch 10/10\n",
      "790/790 [==============================] - 9s 10ms/step - loss: 1.2310\n"
     ]
    }
   ],
   "source": [
    "EPOCHS = 10\n",
    "\n",
    "# Compile the model\n",
    "model = compile_model(model)\n",
    "# Fit the model\n",
    "history = model.fit(dataset, epochs=EPOCHS)"
   ]
  },
  {
   "cell_type": "markdown",
   "id": "b86cd1dd",
   "metadata": {},
   "source": [
    "You can uncomment the following cell to save the weigthts of your model. This allows you to use the model later."
   ]
  },
  {
   "cell_type": "code",
   "execution_count": 41,
   "id": "30c3ead1",
   "metadata": {
    "colab": {
     "base_uri": "https://localhost:8080/",
     "height": 68
    },
    "colab_type": "code",
    "deletable": false,
    "id": "SwP646GpK3pD",
    "outputId": "4c88bcf5-a8aa-4160-cc3c-3ff16f39fd64"
   },
   "outputs": [],
   "source": [
    "# # If you want, you can save the final model. Here is deactivated.\n",
    "# output_dir = './your-model/'\n",
    "\n",
    "# try:\n",
    "#     shutil.rmtree(output_dir)\n",
    "# except OSError as e:\n",
    "#     pass\n",
    "\n",
    "# model.save_weights(output_dir)"
   ]
  },
  {
   "cell_type": "markdown",
   "id": "f4a95353",
   "metadata": {},
   "source": [
    "The model was only trained for 10 epochs. We pretrained a model for 30 epochs, which can take about 5 minutes in a GPU."
   ]
  },
  {
   "cell_type": "markdown",
   "id": "978febbb",
   "metadata": {
    "colab_type": "text",
    "id": "abKPe7d4wt1C"
   },
   "source": [
    "<a name='4'></a>\n",
    "## 4 - Evaluation  \n",
    "<a name='4-1'></a>\n",
    "### 4.1 - Evaluating using the Deep Nets\n",
    "\n",
    "Now that you have learned how to train a model, you will learn how to evaluate it. To evaluate language models, we usually use perplexity which is a measure of how well a probability model predicts a sample. Note that perplexity is defined as: \n",
    "\n",
    "$$P(W) = \\sqrt[N]{\\prod_{i=1}^{N} \\frac{1}{P(w_i| w_1,...,w_{n-1})}}$$\n",
    "\n",
    "As an implementation hack, you would usually take the log of that formula (to enable us to use the log probabilities we get as output of our `RNN`, convert exponents to products, and products into sums which makes computations less complicated and computationally more efficient). \n",
    "\n",
    "\n",
    "$$\\log P(W) = {\\log\\left(\\sqrt[N]{\\prod_{i=1}^{N} \\frac{1}{P(w_i| w_1,...,w_{n-1})}}\\right)}$$$$ = \\log\\left(\\left(\\prod_{i=1}^{N} \\frac{1}{P(w_i| w_1,...,w_{n-1})}\\right)^{\\frac{1}{N}}\\right)$$\n",
    "$$ = \\log\\left(\\left({\\prod_{i=1}^{N}{P(w_i| w_1,...,w_{n-1})}}\\right)^{-\\frac{1}{N}}\\right)$$$$ = -\\frac{1}{N}{\\log\\left({\\prod_{i=1}^{N}{P(w_i| w_1,...,w_{n-1})}}\\right)} $$$$ = -\\frac{1}{N}{{\\sum_{i=1}^{N}{\\log P(w_i| w_1,...,w_{n-1})}}} $$\n",
    "\n",
    "<a name='ex-5'></a>\n",
    "### Exercise 5 - log_perplexity\n",
    "**Instructions:** Write a program that will help evaluate your model. Implementation hack: your program takes in `preds` and `target`. `preds` is a tensor of log probabilities. You can use [`tf.one_hot`](https://www.tensorflow.org/api_docs/python/tf/one_hot) to transform the `target` into the same dimension. You then multiply them and sum them. For the sake of simplicity, we suggest you use the NumPy functions [`sum`](https://numpy.org/doc/stable/reference/generated/numpy.sum.html), [`mean`](https://numpy.org/doc/stable/reference/generated/numpy.mean.html) and [`equal`](https://numpy.org/doc/stable/reference/generated/numpy.equal.html), Good luck! "
   ]
  },
  {
   "cell_type": "markdown",
   "id": "0585aac7",
   "metadata": {
    "colab_type": "text",
    "id": "9PqIvySI6ZWb"
   },
   "source": [
    "<details>    \n",
    "<summary>\n",
    "    <font size=\"3\" color=\"darkgreen\"><b>Hints</b></font>\n",
    "</summary>\n",
    "<p>\n",
    "<ul>\n",
    "    <li>To convert the target into the same dimension as the predictions tensor use tf.one_hot with target and preds.shape[-1].</li>\n",
    "    <li>You will also need the np.equal function in order to unpad the data and properly compute perplexity.</li>\n",
    "</ul>\n",
    "</p>"
   ]
  },
  {
   "cell_type": "code",
   "execution_count": 44,
   "id": "d31ed99d",
   "metadata": {
    "colab": {},
    "colab_type": "code",
    "deletable": false,
    "id": "3OtmlEuOwt1D",
    "tags": [
     "graded"
    ]
   },
   "outputs": [],
   "source": [
    "# GRADED FUNCTION: log_perplexity\n",
    "def log_perplexity(preds, target):\n",
    "    \"\"\"\n",
    "    Function to calculate the log perplexity of a model.\n",
    "\n",
    "    Args:\n",
    "        preds (tf.Tensor): Predictions of a list of batches of tensors corresponding to lines of text.\n",
    "        target (tf.Tensor): Actual list of batches of tensors corresponding to lines of text.\n",
    "\n",
    "    Returns:\n",
    "        float: The log perplexity of the model.\n",
    "    \"\"\"\n",
    "    PADDING_ID = 1\n",
    "    ### START CODE HERE ###\n",
    "    \n",
    "    # Calculate log probabilities for predictions using one-hot encoding\n",
    "    log_p = np.sum(preds * tf.one_hot(target, preds.shape[-1]), axis = -1) # HINT: tf.one_hot() should replace one of the Nones\n",
    "    # Identify non-padding elements in the target\n",
    "    non_pad = 1.0 - np.equal(target, PADDING_ID)          # You should check if the target equals to PADDING_ID\n",
    "    # Apply non-padding mask to log probabilities to exclude padding\n",
    "    log_p = log_p * non_pad                             # Get rid of the padding\n",
    "    # Calculate the log perplexity by taking the sum of log probabilities and dividing by the sum of non-padding elements\n",
    "    log_ppx = np.sum(log_p, axis = -1) / np.sum(non_pad, axis = -1) # Remember to set the axis properly when summing up\n",
    "    # Compute the mean of log perplexity\n",
    "    log_ppx = np.mean(log_ppx) # Compute the mean of the previous expression\n",
    "        \n",
    "    ### END CODE HERE ###\n",
    "    return -log_ppx"
   ]
  },
  {
   "cell_type": "code",
   "execution_count": 45,
   "id": "9d88193e",
   "metadata": {
    "deletable": false,
    "editable": false
   },
   "outputs": [
    {
     "name": "stdout",
     "output_type": "stream",
     "text": [
      "\n",
      "\u001b[92mAll test passed!\n"
     ]
    }
   ],
   "source": [
    "#UNIT TESTS\n",
    "w1_unittest.test_test_model(log_perplexity)"
   ]
  },
  {
   "cell_type": "markdown",
   "id": "0cdc175a",
   "metadata": {},
   "source": [
    "Now load the provided pretrained model just to ensure that results are consistent for the upcoming parts of the notebook. You need to instantiate the GRULM model and then load the saved weights."
   ]
  },
  {
   "cell_type": "code",
   "execution_count": 46,
   "id": "b6059067",
   "metadata": {
    "deletable": false,
    "editable": false
   },
   "outputs": [
    {
     "data": {
      "text/plain": [
       "<tensorflow.python.checkpoint.checkpoint.CheckpointLoadStatus at 0x7fa24c4a3550>"
      ]
     },
     "execution_count": 46,
     "metadata": {},
     "output_type": "execute_result"
    }
   ],
   "source": [
    "# Load the pretrained model. This step is optional. \n",
    "vocab_size = len(vocab)\n",
    "embedding_dim = 256\n",
    "rnn_units = 512\n",
    "\n",
    "model = GRULM(\n",
    "    vocab_size=vocab_size,\n",
    "    embedding_dim=embedding_dim,\n",
    "    rnn_units = rnn_units)\n",
    "model.build(input_shape=(100, vocab_size))\n",
    "model.load_weights('./model/')"
   ]
  },
  {
   "cell_type": "markdown",
   "id": "3dfbc9e9",
   "metadata": {},
   "source": [
    "Now, you will use the 1000 lines of the corpus that were reserved at the begining of this notebook as test data. You will apply the same preprocessing as you did for the train dataset: get the numeric tensor from the input lines, and use the `split_input_target` to generate the inputs and the expected outputs. \n",
    "\n",
    "Second, you will predict the next characters for the whole dataset, and you will compute the perplexity for the expected outputs and the given predictions."
   ]
  },
  {
   "cell_type": "code",
   "execution_count": 47,
   "id": "5104a2ed",
   "metadata": {
    "deletable": false,
    "editable": false
   },
   "outputs": [
    {
     "name": "stdout",
     "output_type": "stream",
     "text": [
      "The log perplexity and perplexity of your model are 1.2239635591264044 and 3.400639693684683 respectively\n"
     ]
    }
   ],
   "source": [
    "#for line in eval_lines[1:3]:\n",
    "eval_text = \"\\n\".join(eval_lines)\n",
    "eval_ids = line_to_tensor([eval_text], vocab)\n",
    "input_ids, target_ids = split_input_target(tf.squeeze(eval_ids, axis=0))\n",
    "\n",
    "preds, status = model(tf.expand_dims(input_ids, 0), training=False, states=None, return_state=True)\n",
    "\n",
    "#Get the log perplexity\n",
    "log_ppx = log_perplexity(preds, tf.expand_dims(target_ids, 0))\n",
    "print(f'The log perplexity and perplexity of your model are {log_ppx} and {np.exp(log_ppx)} respectively')"
   ]
  },
  {
   "cell_type": "markdown",
   "id": "b151df75",
   "metadata": {
    "colab_type": "text",
    "id": "8PZdy1V2wt1H"
   },
   "source": [
    "**Expected Output:** The log perplexity and perplexity of your model are around 1.22 and 3.40 respectively."
   ]
  },
  {
   "cell_type": "markdown",
   "id": "61aa7360",
   "metadata": {},
   "source": [
    "So, the log perplexity of the model is 1.22. It is not an easy to interpret metric, but it can be used to compare among models. The smaller the value the better the model."
   ]
  },
  {
   "cell_type": "markdown",
   "id": "50b1fea0",
   "metadata": {
    "colab_type": "text",
    "id": "4-STC44Ywt1I"
   },
   "source": [
    "<a name='5'></a>\n",
    "## 5 - Generating Language with your Own Model\n",
    "\n",
    "Your GRULM model demonstrates an impressive ability to predict the most likely characters in a sequence, based on log scores. However, it's important to acknowledge that this model, in its default form, is deterministic and can result in repetitive and monotonous outputs. For instance, it tends to provide the same answer to a question consistently.\n",
    "\n",
    "To make your language model more dynamic and versatile, you can introduce an element of randomness into its predictions. This ensures that even if you feed the model in the same way each time, it will generate different sequences of text.\n",
    "\n",
    "To achieve this desired behavior, you can employ a technique known as random sampling. When presented with an array of log scores for the N characters in your dictionary, you add an array of random numbers to this data. The extent of randomness introduced into the predictions is regulated by a parameter called \"temperature\". By comparing the random numbers to the original input scores, the model adapts its choices, offering diversity in its outputs.\n",
    "\n",
    "This doesn't imply that the model produces entirely random results on each iteration. Rather, with each prediction, there is a probability associated with choosing a character other than the one with the highest score. This concept becomes more tangible when you explore the accompanying Python code."
   ]
  },
  {
   "cell_type": "code",
   "execution_count": 48,
   "id": "61f601f0",
   "metadata": {
    "deletable": false,
    "editable": false
   },
   "outputs": [],
   "source": [
    "def temperature_random_sampling(log_probs, temperature=1.0):\n",
    "    \"\"\"Temperature Random sampling from a categorical distribution. The higher the temperature, the more \n",
    "       random the output. If temperature is close to 0, it means that the model will just return the index\n",
    "       of the character with the highest input log_score\n",
    "    \n",
    "    Args:\n",
    "        log_probs (tf.Tensor): The log scores for each characeter in the dictionary\n",
    "        temperature (number): A value to weight the random noise. \n",
    "    Returns:\n",
    "        int: The index of the selected character\n",
    "    \"\"\"\n",
    "   # Generate uniform random numbers with a slight offset to avoid log(0)\n",
    "    u = tf.random.uniform(minval=1e-6, maxval=1.0 - 1e-6, shape=log_probs.shape)\n",
    "    \n",
    "    # Apply the Gumbel distribution transformation for randomness\n",
    "    g = -tf.math.log(-tf.math.log(u))\n",
    "    \n",
    "    # Adjust the logits with the temperature and choose the character with the highest score\n",
    "    return tf.math.argmax(log_probs + g * temperature, axis=-1)"
   ]
  },
  {
   "cell_type": "markdown",
   "id": "eec7711f",
   "metadata": {},
   "source": [
    "Now, it's time to bring all the elements together for the exciting task of generating new text. The GenerativeModel class plays a pivotal role in this process, offering two essential functions:\n",
    "\n",
    "1. `generate_one_step`: This function is your go-to method for generating a single character at a time. It accepts two key inputs: an initial input sequence and a state that can be thought of as the ongoing context or memory of the model. The function delivers a single character prediction and an updated state, which can be used as the context for future predictions.\n",
    "\n",
    "2. `generate_n_chars`: This function takes text generation to the next level. It orchestrates the iterative generation of a sequence of characters. At each iteration, generate_one_step is called with the last generated character and the most recent state. This dynamic approach ensures that the generated text evolves organically, building upon the context and characters produced in previous steps. Each character generated in this process is collected and stored in the result list, forming the final output text.\n",
    "\n",
    "<a name='ex-6'></a>\n",
    "### Optional Exercise 6 - GenerativeModel (Not graded)\n",
    "**Instructions:** Implementing the One-Step Generator\n",
    "\n",
    "In this task, you will create a function to generate a single character based on the input text, using the provided vocabulary and the trained model. Follow these steps to complete the generate_one_step function:\n",
    "\n",
    "1. Start by transforming your input text into a tensor using the given vocab. This will convert the text into a format that the model can understand.\n",
    "\n",
    "2. Utilize the trained model with the input_ids and the provided states to predict the next characters. Make sure to retrieve the updated states from this prediction because they are essential for the final output.\n",
    "\n",
    "3. Since we are only interested in the next character prediction, keep only the result for the last character in the sequence.\n",
    "\n",
    "4. Employ the temperature random sampling technique to convert the vector of scores into a single character prediction. For this step, you will use the predicted_logits obtained in the previous step and the temperature parameter of the model.\n",
    "\n",
    "5. To transform the numeric prediction into a human-readable character, use the text_from_ids function. Be mindful that text_from_ids expects a list as its input, so you need to wrap the output of the temperature_random_sampling function in square brackets [...]. Don't forget to use self.vocab as the second parameter for character mapping.\n",
    "\n",
    "6. Finally, return the predicted_chars, which will be a single character, and the states tensor obtained from step 2. These components are essential for maintaining the sequence and generating subsequent characters.\n",
    "\n",
    "\n",
    "\n",
    "\n",
    "\n"
   ]
  },
  {
   "cell_type": "code",
   "execution_count": 49,
   "id": "a7fde908",
   "metadata": {
    "colab": {},
    "colab_type": "code",
    "deletable": false,
    "id": "5Birerv82mLv"
   },
   "outputs": [],
   "source": [
    "# UNGRADED CLASS: GenerativeModel\n",
    "class GenerativeModel(tf.keras.Model):\n",
    "    def __init__(self, model, vocab, temperature=1.0):\n",
    "        \"\"\"\n",
    "        A generative model for text generation.\n",
    "\n",
    "        Args:\n",
    "            model (tf.keras.Model): The underlying model for text generation.\n",
    "            vocab (list): A list containing the vocabulary of unique characters.\n",
    "            temperature (float, optional): A value to control the randomness of text generation. Defaults to 1.0.\n",
    "        \"\"\"\n",
    "        super().__init__()\n",
    "        self.temperature = temperature\n",
    "        self.model = model\n",
    "        self.vocab = vocab\n",
    "    \n",
    "    @tf.function\n",
    "    def generate_one_step(self, inputs, states=None):\n",
    "        \"\"\"\n",
    "        Generate a single character and update the model state.\n",
    "\n",
    "        Args:\n",
    "            inputs (string): The input string to start with.\n",
    "            states (tf.Tensor): The state tensor.\n",
    "\n",
    "        Returns:\n",
    "            tf.Tensor, states: The predicted character and the current GRU state.\n",
    "        \"\"\"\n",
    "        # Convert strings to token IDs.\n",
    "        \n",
    "        ### START CODE HERE ###\n",
    "\n",
    "        # Transform the inputs into tensors\n",
    "        input_ids = line_to_tensor(inputs, self.vocab)\n",
    "        # Predict the sequence for the given input_ids. Use the states and return_state=True\n",
    "        predicted_logits, states = self.model(input_ids, states = states, return_state = True)\n",
    "        # Get only last element of the sequence\n",
    "        predicted_logits = predicted_logits[0, -1, :]                      \n",
    "        # Use the temperature_random_sampling to generate the next character. \n",
    "        predicted_ids = temperature_random_sampling(predicted_logits, temperature = self.temperature)\n",
    "        # Use the chars_from_ids to transform the code into the corresponding char\n",
    "        predicted_chars = text_from_ids([predicted_ids], self.vocab)\n",
    "        \n",
    "        ### END CODE HERE ###\n",
    "        \n",
    "        # Return the characters and model state.\n",
    "        return tf.expand_dims(predicted_chars, 0), states\n",
    "    \n",
    "    def generate_n_chars(self, num_chars, prefix):\n",
    "        \"\"\"\n",
    "        Generate a text sequence of a specified length, starting with a given prefix.\n",
    "\n",
    "        Args:\n",
    "            num_chars (int): The length of the output sequence.\n",
    "            prefix (string): The prefix of the sequence (also referred to as the seed).\n",
    "\n",
    "        Returns:\n",
    "            str: The generated text sequence.\n",
    "        \"\"\"\n",
    "        states = None\n",
    "        next_char = tf.constant([prefix])\n",
    "        result = [next_char]\n",
    "        for n in range(num_chars):\n",
    "            next_char, states = self.generate_one_step(next_char, states=states)\n",
    "            result.append(next_char)\n",
    "\n",
    "        return tf.strings.join(result)[0].numpy().decode('utf-8')"
   ]
  },
  {
   "cell_type": "code",
   "execution_count": 50,
   "id": "47412d77",
   "metadata": {
    "deletable": false,
    "editable": false
   },
   "outputs": [
    {
     "name": "stdout",
     "output_type": "stream",
     "text": [
      " hear he has a soldier.\n",
      "Here is a \n",
      "\n",
      "________________________________________________________________________________\n",
      "Dear gold, if thou wilt endure the e \n",
      "\n",
      "________________________________________________________________________________\n",
      "KING OF THE SHREW\n",
      "IV\tI beseech you,  \n",
      "\n",
      "________________________________________________________________________________\n"
     ]
    }
   ],
   "source": [
    "# UNIT TEST\n",
    "# Fix the seed to get replicable results for testing\n",
    "tf.random.set_seed(272)\n",
    "gen = GenerativeModel(model, vocab, temperature=0.5)\n",
    "\n",
    "print(gen.generate_n_chars(32, \" \"), '\\n\\n' + '_'*80)\n",
    "print(gen.generate_n_chars(32, \"Dear\"), '\\n\\n' + '_'*80)\n",
    "print(gen.generate_n_chars(32, \"KING\"), '\\n\\n' + '_'*80)"
   ]
  },
  {
   "cell_type": "markdown",
   "id": "eb0efac0",
   "metadata": {},
   "source": [
    "**Expected output**\n",
    "```CPP\n",
    " hear he has a soldier.\n",
    "Here is a \n",
    "\n",
    "________________________________________________________________________________\n",
    "Dear gold, if thou wilt endure the e \n",
    "\n",
    "________________________________________________________________________________\n",
    "KING OF THE SHREW\n",
    "IV\tI beseech you,  \n",
    "\n",
    "________________________________________________________________________________\n",
    "\n",
    "```"
   ]
  },
  {
   "cell_type": "code",
   "execution_count": 51,
   "id": "f370b35d-ba30-4338-985b-750a6d82fe98",
   "metadata": {
    "deletable": false,
    "editable": false
   },
   "outputs": [
    {
     "name": "stdout",
     "output_type": "stream",
     "text": [
      "\n",
      "\u001b[92mAll test passed!\n"
     ]
    }
   ],
   "source": [
    "w1_unittest.test_GenerativeModel(GenerativeModel, model, vocab)"
   ]
  },
  {
   "cell_type": "markdown",
   "id": "7c21ca85",
   "metadata": {},
   "source": [
    "Now, generate a longer text. Let's check if it looks like Shakespeare fragment"
   ]
  },
  {
   "cell_type": "code",
   "execution_count": 52,
   "id": "cc362c27",
   "metadata": {
    "deletable": false,
    "editable": false
   },
   "outputs": [
    {
     "name": "stdout",
     "output_type": "stream",
     "text": [
      "ROMEO and KING LEWIS XI\tenough.\n",
      "PRINCESS\tYes.--When you have lived in heaven\n",
      "Before most best to be marridden'd,\n",
      "The tenor, son to me, since the ring I will\n",
      "discerns them free fellows of your treason, and with his folly,\n",
      "Lest it were not infected askings,\n",
      "To give my tent to me the law?\n",
      "COUNTESS\tWill this gentle husband?\n",
      "ORLANDO\tWhat would I do not go.\n",
      "[Exeunt MARMANO, WARWICK, RATCLIFF, and Mourney's territs,\n",
      "With help be next than headship's then, and scatter in front,\n",
      "I will kill me to the place into the shadows\n",
      "Pars and the sword of this man, when I have seen my life.\n",
      "GLOUCESTER\tGood lord? his own done dealings that he have one\n",
      "To rob the rest, to show my grace so much\n",
      "But where you are behind the queen;\n",
      "As first is not the heart of heart with some child,\n",
      "And thou wilt be possible he should stay his wife.\n",
      "But you alone, I between ye hold this message.\n",
      "GLOUCESTER\t                  Peace! do you think so was I knowledge of me:\n",
      "Think that our bark! Edward, Edward Ned,\n",
      "Sit but the beauteous d \n",
      "\n",
      "________________________________________________________________________________\n",
      "\n",
      "Run time: 2.716862678527832\n"
     ]
    }
   ],
   "source": [
    "tf.random.set_seed(np.random.randint(1, 1000))\n",
    "gen = GenerativeModel(model, vocab, temperature=0.8)\n",
    "import time\n",
    "start = time.time()\n",
    "print(gen.generate_n_chars(1000, \"ROMEO \"), '\\n\\n' + '_'*80)\n",
    "print('\\nRun time:', time.time() - start)"
   ]
  },
  {
   "cell_type": "markdown",
   "id": "4338c40f",
   "metadata": {
    "colab_type": "text",
    "id": "NAfV3l5Zwt1L"
   },
   "source": [
    "In the generated text above, you can see that the model generates text that makes sense capturing dependencies between words and without any input. A simple n-gram model would have not been able to capture all of that in one sentence."
   ]
  },
  {
   "cell_type": "markdown",
   "id": "2f202723",
   "metadata": {
    "colab_type": "text",
    "id": "FsE8tdTLwt1M"
   },
   "source": [
    "<a name='6'></a>\n",
    "###  On statistical methods\n",
    "\n",
    "Using a statistical method like the one you implemented in course 2 will not give you results that are as good as you saw here. Your model will not be able to encode information seen previously in the data set and as a result, the perplexity will increase. Remember from course 2 that the higher the perplexity, the worse your model is. Furthermore, statistical ngram models take up too much space and memory. As a result, they will be inefficient and too slow. Conversely, with deepnets, you can get a better perplexity. Note, learning about n-gram language models is still important and allows you to better understand deepnets.\n"
   ]
  }
 ],
 "metadata": {
  "grader_version": "1",
  "jupytext": {
   "encoding": "# -*- coding: utf-8 -*-"
  },
  "kernelspec": {
   "display_name": "Python 3 (ipykernel)",
   "language": "python",
   "name": "python3"
  },
  "language_info": {
   "codemirror_mode": {
    "name": "ipython",
    "version": 3
   },
   "file_extension": ".py",
   "mimetype": "text/x-python",
   "name": "python",
   "nbconvert_exporter": "python",
   "pygments_lexer": "ipython3",
   "version": "3.8.10"
  }
 },
 "nbformat": 4,
 "nbformat_minor": 5
}
